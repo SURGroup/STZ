{
 "cells": [
  {
   "cell_type": "code",
   "execution_count": 1,
   "metadata": {},
   "outputs": [],
   "source": [
    "import numpy as np\n",
    "import seaborn as sns\n",
    "import matplotlib.pyplot as plt\n",
    "%matplotlib inline\n",
    "import os\n",
    "from UQpy.RunModel import RunModel"
   ]
  },
  {
   "cell_type": "code",
   "execution_count": 2,
   "metadata": {},
   "outputs": [],
   "source": [
    "# Parameters of the STZ model\n",
    "\n",
    "#BETA : (2 - 18eV)\n",
    "#U0 :   (np.amin(pe.MD.0) - 0.01)  —  (np.amax(pe.MD.0) - 0.001)\n",
    "#CHI_LEN :10 -100 Angstrom\n",
    "#KAPPA :10 -100 Angstrom\n",
    "#C0 :0.1 - 0.9\n",
    "#EPS0 :0.1 - 0.9\n",
    "#OMEGA :60 - 300 Cubic Angstroms\n",
    "#THETA :100K\n",
    "#DELTA :500 - 10000K\n",
    "#CHI_INF : BETA * (np.amax(pe.MD.100) - U0 ) * TZ, TZ = 21000\n",
    "#SY :0.85Gpa\n",
    "#MU :20GPa\n",
    "#K :143.23GPa\n",
    "#RHO :7234"
   ]
  },
  {
   "cell_type": "code",
   "execution_count": 3,
   "metadata": {},
   "outputs": [
    {
     "name": "stdout",
     "output_type": "stream",
     "text": [
      "-0.01 -0.0008233570950105787\n"
     ]
    }
   ],
   "source": [
    "peMD0 = np.fromfile('pe.MD.0', dtype=np.float32)\n",
    "peMD100 = np.fromfile('pe.MD.100', dtype=np.float32)\n",
    "U0min = (np.amin(peMD0) - 0.01)\n",
    "U0max = (np.amax(peMD0) - 0.001)\n",
    "print(U0min, U0max)"
   ]
  },
  {
   "cell_type": "code",
   "execution_count": 4,
   "metadata": {},
   "outputs": [],
   "source": [
    "TZ = 21000\n",
    "beta = 4.7958\n",
    "u0 = -3.3625\n",
    "#chi_len =15.05\n",
    "chi_len = 10 #use 2 (increase this reduce the resolution)\n",
    "kappa = 0.06\n",
    "c0 = 0.414\n",
    "eps0 = 0.333\n",
    "Omega =349\n",
    "theta = 97\n",
    "Delta = 7948\n",
    "\n",
    "Uf_MD = np.loadtxt('pe.MD.100', skiprows=1)\n",
    "Tf_MD = beta*(Uf_MD-u0)*TZ\n",
    "Chi_inf = np.amax(Tf_MD)\n",
    "    \n",
    "sy = 0.7\n",
    "mu = 20\n",
    "K = 143.23\n",
    "rho = 7234\n",
    "\n",
    "RunModelObject = RunModel(model_script='pfn.py',model_object_name=\"STZmodel\")\n",
    "samples = np.array([beta, u0, chi_len, kappa, c0, eps0, Omega, theta, Delta, Chi_inf, sy, mu, K, rho])"
   ]
  },
  {
   "cell_type": "code",
   "execution_count": 5,
   "metadata": {},
   "outputs": [
    {
     "ename": "FileNotFoundError",
     "evalue": "[Errno 2] No such file or directory: './sct_q.out/Exy.100'",
     "output_type": "error",
     "traceback": [
      "\u001b[0;31m---------------------------------------------------------------------------\u001b[0m",
      "\u001b[0;31mFileNotFoundError\u001b[0m                         Traceback (most recent call last)",
      "\u001b[0;32m<ipython-input-5-52324b9e1eae>\u001b[0m in \u001b[0;36m<module>\u001b[0;34m\u001b[0m\n\u001b[0;32m----> 1\u001b[0;31m \u001b[0mRunModelObject\u001b[0m\u001b[0;34m.\u001b[0m\u001b[0mrun\u001b[0m\u001b[0;34m(\u001b[0m\u001b[0msamples\u001b[0m\u001b[0;34m.\u001b[0m\u001b[0mreshape\u001b[0m\u001b[0;34m(\u001b[0m\u001b[0;36m1\u001b[0m\u001b[0;34m,\u001b[0m \u001b[0;34m-\u001b[0m\u001b[0;36m1\u001b[0m\u001b[0;34m)\u001b[0m\u001b[0;34m)\u001b[0m\u001b[0;34m\u001b[0m\u001b[0;34m\u001b[0m\u001b[0m\n\u001b[0m",
      "\u001b[0;32m~/PythonProjects/UQpy/src/UQpy/RunModel.py\u001b[0m in \u001b[0;36mrun\u001b[0;34m(self, samples, append_samples)\u001b[0m\n\u001b[1;32m    336\u001b[0m             \u001b[0;31m# Run the serial execution or parallel execution depending on ntasks\u001b[0m\u001b[0;34m\u001b[0m\u001b[0;34m\u001b[0m\u001b[0;34m\u001b[0m\u001b[0m\n\u001b[1;32m    337\u001b[0m             \u001b[0;32mif\u001b[0m \u001b[0mself\u001b[0m\u001b[0;34m.\u001b[0m\u001b[0mntasks\u001b[0m \u001b[0;34m==\u001b[0m \u001b[0;36m1\u001b[0m\u001b[0;34m:\u001b[0m\u001b[0;34m\u001b[0m\u001b[0;34m\u001b[0m\u001b[0m\n\u001b[0;32m--> 338\u001b[0;31m                 \u001b[0mself\u001b[0m\u001b[0;34m.\u001b[0m\u001b[0m_serial_python_execution\u001b[0m\u001b[0;34m(\u001b[0m\u001b[0;34m)\u001b[0m\u001b[0;34m\u001b[0m\u001b[0;34m\u001b[0m\u001b[0m\n\u001b[0m\u001b[1;32m    339\u001b[0m             \u001b[0;32melse\u001b[0m\u001b[0;34m:\u001b[0m\u001b[0;34m\u001b[0m\u001b[0;34m\u001b[0m\u001b[0m\n\u001b[1;32m    340\u001b[0m                 \u001b[0mself\u001b[0m\u001b[0;34m.\u001b[0m\u001b[0m_parallel_python_execution\u001b[0m\u001b[0;34m(\u001b[0m\u001b[0;34m)\u001b[0m\u001b[0;34m\u001b[0m\u001b[0;34m\u001b[0m\u001b[0m\n",
      "\u001b[0;32m~/PythonProjects/UQpy/src/UQpy/RunModel.py\u001b[0m in \u001b[0;36m_serial_python_execution\u001b[0;34m(self)\u001b[0m\n\u001b[1;32m    472\u001b[0m                 \u001b[0;31m# self.model_output = eval(self.model_object_name + '(self.samples[i])')\u001b[0m\u001b[0;34m\u001b[0m\u001b[0;34m\u001b[0m\u001b[0;34m\u001b[0m\u001b[0m\n\u001b[1;32m    473\u001b[0m             \u001b[0;32mif\u001b[0m \u001b[0mlen\u001b[0m\u001b[0;34m(\u001b[0m\u001b[0mself\u001b[0m\u001b[0;34m.\u001b[0m\u001b[0mpython_kwargs\u001b[0m\u001b[0;34m)\u001b[0m \u001b[0;34m==\u001b[0m \u001b[0;36m0\u001b[0m\u001b[0;34m:\u001b[0m\u001b[0;34m\u001b[0m\u001b[0;34m\u001b[0m\u001b[0m\n\u001b[0;32m--> 474\u001b[0;31m                 \u001b[0mself\u001b[0m\u001b[0;34m.\u001b[0m\u001b[0mmodel_output\u001b[0m \u001b[0;34m=\u001b[0m \u001b[0meval\u001b[0m\u001b[0;34m(\u001b[0m\u001b[0mself\u001b[0m\u001b[0;34m.\u001b[0m\u001b[0mmodel_object_name\u001b[0m \u001b[0;34m+\u001b[0m \u001b[0;34m'(sample_to_send)'\u001b[0m\u001b[0;34m)\u001b[0m\u001b[0;34m\u001b[0m\u001b[0;34m\u001b[0m\u001b[0m\n\u001b[0m\u001b[1;32m    475\u001b[0m             \u001b[0;32melse\u001b[0m\u001b[0;34m:\u001b[0m\u001b[0;34m\u001b[0m\u001b[0;34m\u001b[0m\u001b[0m\n\u001b[1;32m    476\u001b[0m                 \u001b[0mself\u001b[0m\u001b[0;34m.\u001b[0m\u001b[0mmodel_output\u001b[0m \u001b[0;34m=\u001b[0m \u001b[0meval\u001b[0m\u001b[0;34m(\u001b[0m\u001b[0mself\u001b[0m\u001b[0;34m.\u001b[0m\u001b[0mmodel_object_name\u001b[0m \u001b[0;34m+\u001b[0m \u001b[0;34m'(sample_to_send, **self.python_kwargs)'\u001b[0m\u001b[0;34m)\u001b[0m\u001b[0;34m\u001b[0m\u001b[0;34m\u001b[0m\u001b[0m\n",
      "\u001b[0;32m~/PythonProjects/UQpy/src/UQpy/RunModel.py\u001b[0m in \u001b[0;36m<module>\u001b[0;34m\u001b[0m\n",
      "\u001b[0;32m~/Google Drive/STZ/esim/coord_transforms/simple_shear/pfn.py\u001b[0m in \u001b[0;36mSTZmodel\u001b[0;34m(samples)\u001b[0m\n\u001b[1;32m     31\u001b[0m     \u001b[0mos\u001b[0m\u001b[0;34m.\u001b[0m\u001b[0msystem\u001b[0m\u001b[0;34m(\u001b[0m\u001b[0mscript\u001b[0m\u001b[0;34m)\u001b[0m\u001b[0;34m\u001b[0m\u001b[0;34m\u001b[0m\u001b[0m\n\u001b[1;32m     32\u001b[0m \u001b[0;34m\u001b[0m\u001b[0m\n\u001b[0;32m---> 33\u001b[0;31m     \u001b[0mmyArray\u001b[0m \u001b[0;34m=\u001b[0m \u001b[0mnp\u001b[0m\u001b[0;34m.\u001b[0m\u001b[0mfromfile\u001b[0m\u001b[0;34m(\u001b[0m\u001b[0;34m'./sct_q.out/Exy.100'\u001b[0m\u001b[0;34m,\u001b[0m \u001b[0mdtype\u001b[0m\u001b[0;34m=\u001b[0m\u001b[0mnp\u001b[0m\u001b[0;34m.\u001b[0m\u001b[0mfloat32\u001b[0m\u001b[0;34m)\u001b[0m\u001b[0;34m\u001b[0m\u001b[0;34m\u001b[0m\u001b[0m\n\u001b[0m\u001b[1;32m     34\u001b[0m     \u001b[0mExy_\u001b[0m \u001b[0;34m=\u001b[0m \u001b[0mmyArray\u001b[0m\u001b[0;34m.\u001b[0m\u001b[0mreshape\u001b[0m\u001b[0;34m(\u001b[0m\u001b[0;36m33\u001b[0m\u001b[0;34m,\u001b[0m \u001b[0;36m33\u001b[0m\u001b[0;34m)\u001b[0m\u001b[0;34m\u001b[0m\u001b[0;34m\u001b[0m\u001b[0m\n\u001b[1;32m     35\u001b[0m     \u001b[0mExy\u001b[0m \u001b[0;34m=\u001b[0m \u001b[0mExy_\u001b[0m\u001b[0;34m[\u001b[0m\u001b[0;36m1\u001b[0m\u001b[0;34m:\u001b[0m\u001b[0;34m,\u001b[0m \u001b[0;36m1\u001b[0m\u001b[0;34m:\u001b[0m\u001b[0;34m]\u001b[0m\u001b[0;34m\u001b[0m\u001b[0;34m\u001b[0m\u001b[0m\n",
      "\u001b[0;31mFileNotFoundError\u001b[0m: [Errno 2] No such file or directory: './sct_q.out/Exy.100'"
     ]
    }
   ],
   "source": [
    "RunModelObject.run(samples.reshape(1, -1))"
   ]
  },
  {
   "cell_type": "code",
   "execution_count": null,
   "metadata": {},
   "outputs": [],
   "source": [
    "coordinates = np.loadtxt('coordinates.txt')\n",
    "coordinates = coordinates[1:]\n",
    "X, Y = np.meshgrid(coordinates, coordinates)"
   ]
  },
  {
   "cell_type": "code",
   "execution_count": null,
   "metadata": {},
   "outputs": [],
   "source": [
    "# Interpolate\n",
    "import scipy.interpolate\n",
    "Z = RunModelObject.qoi_list[0]\n",
    "rbf = scipy.interpolate.Rbf(X, Y, Z, function='cubic')\n",
    "zi = rbf(X, Y)\n",
    "\n",
    "plt.imshow(zi, vmin=Z.min(), vmax=Z.max(), origin='lower',\n",
    "           extent=[X.min(), X.max(), Y.min(), Y.max()])\n",
    "plt.scatter(X, Y, c=Z)\n",
    "plt.colorbar()\n",
    "plt.show()"
   ]
  },
  {
   "cell_type": "code",
   "execution_count": null,
   "metadata": {},
   "outputs": [],
   "source": []
  },
  {
   "cell_type": "code",
   "execution_count": null,
   "metadata": {},
   "outputs": [],
   "source": []
  }
 ],
 "metadata": {
  "kernelspec": {
   "display_name": "Python 3",
   "language": "python",
   "name": "python3"
  },
  "language_info": {
   "codemirror_mode": {
    "name": "ipython",
    "version": 3
   },
   "file_extension": ".py",
   "mimetype": "text/x-python",
   "name": "python",
   "nbconvert_exporter": "python",
   "pygments_lexer": "ipython3",
   "version": "3.7.4"
  }
 },
 "nbformat": 4,
 "nbformat_minor": 1
}
