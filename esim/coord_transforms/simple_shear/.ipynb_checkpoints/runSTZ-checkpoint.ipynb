{
 "cells": [
  {
   "cell_type": "code",
   "execution_count": 1,
   "metadata": {},
   "outputs": [],
   "source": [
    "import numpy as np\n",
    "import seaborn as sns\n",
    "import matplotlib.pyplot as plt\n",
    "%matplotlib inline\n",
    "import os\n",
    "from UQpy.RunModel import RunModel"
   ]
  },
  {
   "cell_type": "code",
   "execution_count": 2,
   "metadata": {},
   "outputs": [],
   "source": [
    "# Parameters of the STZ model\n",
    "\n",
    "#BETA : (2 - 18eV)\n",
    "#U0 :   (np.amin(pe.MD.0) - 0.01)  —  (np.amax(pe.MD.0) - 0.001)\n",
    "#CHI_LEN :10 -100 Angstrom\n",
    "#KAPPA :10 -100 Angstrom\n",
    "#C0 :0.1 - 0.9\n",
    "#EPS0 :0.1 - 0.9\n",
    "#OMEGA :60 - 300 Cubic Angstroms\n",
    "#THETA :100K\n",
    "#DELTA :500 - 10000K\n",
    "#CHI_INF : BETA * (np.amax(pe.MD.100) - U0 ) * TZ, TZ = 21000\n",
    "#SY :0.85Gpa\n",
    "#MU :20GPa\n",
    "#K :143.23GPa\n",
    "#RHO :7234"
   ]
  },
  {
   "cell_type": "code",
   "execution_count": 3,
   "metadata": {},
   "outputs": [
    {
     "name": "stdout",
     "output_type": "stream",
     "text": [
      "-0.01 -0.0008233570950105787\n"
     ]
    }
   ],
   "source": [
    "peMD0 = np.fromfile('pe.MD.0', dtype=np.float32)\n",
    "peMD100 = np.fromfile('pe.MD.100', dtype=np.float32)\n",
    "U0min = (np.amin(peMD0) - 0.01)\n",
    "U0max = (np.amax(peMD0) - 0.001)\n",
    "print(U0min, U0max)"
   ]
  },
  {
   "cell_type": "code",
   "execution_count": null,
   "metadata": {},
   "outputs": [],
   "source": [
    "RunModelObject = RunModel(model_script='pfn.py',model_object_name=\"STZmodel\")\n",
    "samples = np.array([3, -3.367, 80, 80, 0.5, 0.5, 100, 2000])"
   ]
  },
  {
   "cell_type": "code",
   "execution_count": null,
   "metadata": {},
   "outputs": [],
   "source": [
    "RunModelObject.run(samples.reshape(1, -1))"
   ]
  },
  {
   "cell_type": "code",
   "execution_count": null,
   "metadata": {},
   "outputs": [],
   "source": [
    "coordinates = np.loadtxt('coordinates.txt')\n",
    "coordinates = coordinates[1:]\n",
    "X, Y = np.meshgrid(coordinates, coordinates)"
   ]
  },
  {
   "cell_type": "code",
   "execution_count": null,
   "metadata": {},
   "outputs": [],
   "source": [
    "# Interpolate\n",
    "import scipy.interpolate\n",
    "Z = RunModelObject.qoi_list[0]\n",
    "rbf = scipy.interpolate.Rbf(X, Y, Z, function='cubic')\n",
    "zi = rbf(X, Y)\n",
    "\n",
    "plt.imshow(zi, vmin=Z.min(), vmax=Z.max(), origin='lower',\n",
    "           extent=[X.min(), X.max(), Y.min(), Y.max()])\n",
    "plt.scatter(X, Y, c=Z)\n",
    "plt.colorbar()\n",
    "plt.show()"
   ]
  },
  {
   "cell_type": "code",
   "execution_count": null,
   "metadata": {},
   "outputs": [],
   "source": []
  },
  {
   "cell_type": "code",
   "execution_count": null,
   "metadata": {},
   "outputs": [],
   "source": []
  }
 ],
 "metadata": {
  "kernelspec": {
   "display_name": "Python 3",
   "language": "python",
   "name": "python3"
  },
  "language_info": {
   "codemirror_mode": {
    "name": "ipython",
    "version": 3
   },
   "file_extension": ".py",
   "mimetype": "text/x-python",
   "name": "python",
   "nbconvert_exporter": "python",
   "pygments_lexer": "ipython3",
   "version": "3.7.4"
  }
 },
 "nbformat": 4,
 "nbformat_minor": 1
}
